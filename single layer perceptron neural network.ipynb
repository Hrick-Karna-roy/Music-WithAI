{
 "cells": [
  {
   "cell_type": "code",
   "execution_count": 5,
   "id": "7a0ce8b8",
   "metadata": {},
   "outputs": [
    {
     "name": "stdout",
     "output_type": "stream",
     "text": [
      "0.93276754941215\n"
     ]
    }
   ],
   "source": [
    "import math\n",
    "x = [0.1 , 0.6 , 2.1]\n",
    "w = [0.2, 1.2, 0.9]\n",
    "\n",
    "def perceptron(input_,weight_):\n",
    "    input_weight_sum = inpweightsum(input_,weight_)\n",
    "    activation_output = sigmoid_activation(input_weight_sum)\n",
    "    return activation_output\n",
    "\n",
    "\n",
    "def inpweightsum(inp,weig):\n",
    "    h = 0\n",
    "    for i,j in zip(inp,weig):\n",
    "        h = h + (i*j)\n",
    "    return h\n",
    "\n",
    "\n",
    "def sigmoid_activation(sum_):\n",
    "    output = 1/(1 + math.exp(-sum_))\n",
    "    return output\n",
    "\n",
    "\n",
    "out = perceptron(x,w)\n",
    "print(out)"
   ]
  }
 ],
 "metadata": {
  "kernelspec": {
   "display_name": "Python 3 (ipykernel)",
   "language": "python",
   "name": "python3"
  },
  "language_info": {
   "codemirror_mode": {
    "name": "ipython",
    "version": 3
   },
   "file_extension": ".py",
   "mimetype": "text/x-python",
   "name": "python",
   "nbconvert_exporter": "python",
   "pygments_lexer": "ipython3",
   "version": "3.8.10"
  }
 },
 "nbformat": 4,
 "nbformat_minor": 5
}
